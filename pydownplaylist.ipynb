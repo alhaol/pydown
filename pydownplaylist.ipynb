{
 "cells": [
  {
   "cell_type": "code",
   "execution_count": 1,
   "metadata": {
    "collapsed": true
   },
   "outputs": [],
   "source": [
    "import os \n",
    "import pandas as pd\n",
    "from tqdm import tqdm\n",
    "import time \n",
    "import subprocess\n",
    "import optparse\n",
    "\n",
    "'''\n",
    "desc=\"\"\"\n",
    "This tool download mp4 youtube videos to from yotubeplaylist\n",
    "Name,ID,Folder:  Name is the file name, ID is the youtube unique ID adn Folder is the folder to save that video\n",
    "\"\"\"\n",
    "parser = optparse.OptionParser(description=desc)\n",
    "parser.add_option('--playlist', '-p',help='Enter youtube playlist ID', dest='PlayListID', default=\"PLmNPvQr9Tf-ZSDLwOzxpvY-HrE0yv-8Fy\", action='store')\n",
    "parser.add_option('--folder', '-f',help='Name of the folder', dest='FoldName', default=\"Orange\", action='store')\n",
    "parser.add_option('--audio', '-a',help='Download Audio File', dest='AudioEnable', default=\"0\", action='store')\n",
    "\n",
    "(opts, args) = parser.parse_args()\n",
    "\n",
    "List_ID=opts.PlayListID\n",
    "Fold=opts.FoldName'\n",
    "Audio=int(opts.AudioEnable)\n",
    "'''\n",
    "\n",
    "List_ID='PLmNPvQr9Tf-ZSDLwOzxpvY-HrE0yv-8Fy'\n",
    "Fold='Orange'\n",
    "Audio=0\n",
    "\n",
    "\n",
    "from bs4 import BeautifulSoup\n",
    "from collections import namedtuple\n",
    "import requests\n",
    " \n",
    "\"\"\"This class extracts the urls and titles of a given youtube playlist\"\"\"\n",
    " \n",
    "class PlayList:\n",
    "\t# name tuple to store outputs\n",
    "    Video = namedtuple('Video', ['url', 'title'])\n",
    "    \n",
    "    def __init__(self, listurl):\n",
    "        # get the html text\n",
    "        self.__listurl = self.__makeUrl(listurl)\n",
    "        htmldoc = requests.get(self.__listurl).text\n",
    "        # parse the html\n",
    "        soup = BeautifulSoup(htmldoc, 'html.parser')\n",
    "        # get all the pl(aylist)-video-title-link(s):\n",
    "        rawList = soup('a', {'class' : 'pl-video-title-link'})\n",
    "        # there has to be at least 1 item in a playlist\n",
    "        if len(rawList) < 1:\n",
    "            raise ValueError('This might be either a private ' \\\n",
    "                              'or an empty playlist.')\n",
    "        else:\n",
    "            # list of the raw hrefs and their anchor texts\n",
    "            self.__rawList = [(x.get('href'), x.contents[0].strip())\n",
    "                              for x in rawList]\n",
    " \n",
    " \n",
    "    @property\n",
    "    def playlist(self):\n",
    "\t\t# return the playlist as a list of named tuples\n",
    "        return [PlayList.Video._make([self.__getVideoURL(x[0])] + [x[1]])\n",
    "                for x in self.__rawList]\n",
    "        \n",
    "    def __getVideoURL(self, text):\n",
    "\t\t# helper function split extract url and add prefix\n",
    "        url = text.split('&')[0]   \n",
    "        url = 'https://www.youtube.com' + url\n",
    "        return url\n",
    "    \n",
    "    def __makeUrl(self, text):\n",
    "\t\t# url validation and clean up\n",
    "        if text.find('playlist?list') != -1:\n",
    "            return text\n",
    "        elif text.find('watch?v=') * text.find('list=') > 1:\n",
    "            return self.__getListUrlfromVideoLink(text)\n",
    "        else:\n",
    "            raise ValueError('Playlist ID not found in URL.')\n",
    " \n",
    " \n",
    "    def __getListUrlfromVideoLink(self, text):\n",
    "\t\t# helper function as its name implies\n",
    "        return r'''https://www.youtube.com/playlist?''' + \\\n",
    "               [x for x in text.split('&')\n",
    "                if x.startswith('list=')][0]"
   ]
  },
  {
   "cell_type": "code",
   "execution_count": 2,
   "metadata": {},
   "outputs": [],
   "source": [
    "import pandas as pd\n",
    "\n",
    "Common='https://www.youtube.com/watch?v=HXjnDIgGDuI&list='\n",
    "listurl=Common+List_ID\n",
    "List =PlayList(listurl)\n",
    "\n",
    "\n",
    "\n"
   ]
  },
  {
   "cell_type": "code",
   "execution_count": 3,
   "metadata": {},
   "outputs": [],
   "source": [
    "Name=[]\n",
    "ID=[]\n",
    "for i in range(len(List.playlist)):\n",
    "    ID.append(List.playlist[i].url.split('?v=')[1])\n",
    "    Name.append(List.playlist[i].title)\n",
    "\n",
    "for i in range(0,len(Name)):\n",
    "    if i+1<10:\n",
    "        Name[i]='0'+str(i+1)+'_'+Name[i]\n",
    "    else:\n",
    "        Name[i]=str(i+1)+'_'+Name[i]\n",
    "DF=pd.DataFrame({'Name':Name,'ID':ID})\n",
    "DF['Fold']=Fold\n",
    "DF['Audio']=Audio"
   ]
  },
  {
   "cell_type": "code",
   "execution_count": 4,
   "metadata": {},
   "outputs": [
    {
     "name": "stdout",
     "output_type": "stream",
     "text": [
      "=====================Start Downloading ===========================\n",
      "\n"
     ]
    },
    {
     "name": "stderr",
     "output_type": "stream",
     "text": [
      "\r",
      "  0%|          | 0/19 [00:00<?, ?it/s]"
     ]
    },
    {
     "name": "stdout",
     "output_type": "stream",
     "text": [
      "Format mp4/720p\n",
      "\n",
      "Working on 01_Getting_Started_with_Orange_01__Welcome_to_Orange .....\n",
      "\n",
      "<<01_Getting_Started_with_Orange_01__Welcome_to_Orange.mp4>> Already downloaded to Orange \n",
      "\n",
      "================================================\n",
      "\n"
     ]
    },
    {
     "name": "stderr",
     "output_type": "stream",
     "text": [
      "\r",
      "  5%|▌         | 1/19 [00:01<00:30,  1.72s/it]"
     ]
    },
    {
     "name": "stdout",
     "output_type": "stream",
     "text": [
      "Format mp4/720p\n",
      "\n",
      "Working on 02_Getting_Started_with_Orange_02__Data_Workflows .....\n",
      "\n",
      "<<02_Getting_Started_with_Orange_02__Data_Workflows.mp4>> was downloaded successfully to Orange \n",
      "\n",
      "================================================\n",
      "\n"
     ]
    },
    {
     "name": "stderr",
     "output_type": "stream",
     "text": [
      "\r",
      " 11%|█         | 2/19 [00:08<01:14,  4.40s/it]"
     ]
    },
    {
     "name": "stdout",
     "output_type": "stream",
     "text": [
      "Format mp4/720p\n",
      "\n",
      "Working on 03_Getting_Started_with_Orange_03__Widgets_and_Channels .....\n",
      "\n",
      "<<03_Getting_Started_with_Orange_03__Widgets_and_Channels.mp4>> was downloaded successfully to Orange \n",
      "\n",
      "================================================\n",
      "\n"
     ]
    },
    {
     "name": "stderr",
     "output_type": "stream",
     "text": [
      "\r",
      " 16%|█▌        | 3/19 [00:22<01:57,  7.36s/it]"
     ]
    },
    {
     "name": "stdout",
     "output_type": "stream",
     "text": [
      "Format mp4/720p\n",
      "\n",
      "Working on 04_Getting_Started_with_Orange_04__Loading_Your_Data .....\n",
      "\n",
      "<<04_Getting_Started_with_Orange_04__Loading_Your_Data.mp4>> was downloaded successfully to Orange \n",
      "\n",
      "================================================\n",
      "\n"
     ]
    },
    {
     "name": "stderr",
     "output_type": "stream",
     "text": [
      "\r",
      " 21%|██        | 4/19 [00:32<02:03,  8.24s/it]"
     ]
    },
    {
     "name": "stdout",
     "output_type": "stream",
     "text": [
      "Format mp4/720p\n",
      "\n",
      "Working on 05_Getting_Started_With_Orange_05__Hierarchical_Clustering .....\n",
      "\n",
      "<<05_Getting_Started_With_Orange_05__Hierarchical_Clustering.mp4>> was downloaded successfully to Orange \n",
      "\n",
      "================================================\n",
      "\n"
     ]
    },
    {
     "name": "stderr",
     "output_type": "stream",
     "text": [
      "\r",
      " 26%|██▋       | 5/19 [00:56<02:38, 11.33s/it]"
     ]
    },
    {
     "name": "stdout",
     "output_type": "stream",
     "text": [
      "Format mp4/720p\n",
      "\n",
      "Working on 06_Getting_Started_with_Orange_06__Making_Predictions .....\n",
      "\n",
      "<<06_Getting_Started_with_Orange_06__Making_Predictions.mp4>> was downloaded successfully to Orange \n",
      "\n",
      "================================================\n",
      "\n"
     ]
    },
    {
     "name": "stderr",
     "output_type": "stream",
     "text": [
      "\r",
      " 32%|███▏      | 6/19 [01:18<02:50, 13.08s/it]"
     ]
    },
    {
     "name": "stdout",
     "output_type": "stream",
     "text": [
      "Format mp4/720p\n",
      "\n",
      "Working on 07_Getting_Started_with_Orange_07__Model_Evaluation_and_Scoring .....\n",
      "\n",
      "<<07_Getting_Started_with_Orange_07__Model_Evaluation_and_Scoring.mp4>> was downloaded successfully to Orange \n",
      "\n",
      "================================================\n",
      "\n"
     ]
    },
    {
     "name": "stderr",
     "output_type": "stream",
     "text": [
      "\r",
      " 37%|███▋      | 7/19 [01:36<02:45, 13.83s/it]"
     ]
    },
    {
     "name": "stdout",
     "output_type": "stream",
     "text": [
      "Format mp4/720p\n",
      "\n",
      "Working on 08_Getting_Started_with_Orange_08__Add-ons .....\n",
      "\n",
      "<<08_Getting_Started_with_Orange_08__Add-ons.mp4>> was downloaded successfully to Orange \n",
      "\n",
      "================================================\n",
      "\n"
     ]
    },
    {
     "name": "stderr",
     "output_type": "stream",
     "text": [
      "\r",
      " 42%|████▏     | 8/19 [02:04<02:50, 15.54s/it]"
     ]
    },
    {
     "name": "stdout",
     "output_type": "stream",
     "text": [
      "Format mp4/720p\n",
      "\n",
      "Working on 09_Getting_Started_With_Orange_09__Principal_Component_Analysis .....\n",
      "\n",
      "<<09_Getting_Started_With_Orange_09__Principal_Component_Analysis.mp4>> was downloaded successfully to Orange \n",
      "\n",
      "================================================\n",
      "\n"
     ]
    },
    {
     "name": "stderr",
     "output_type": "stream",
     "text": [
      "\r",
      " 47%|████▋     | 9/19 [02:29<02:46, 16.61s/it]"
     ]
    },
    {
     "name": "stdout",
     "output_type": "stream",
     "text": [
      "Format mp4/720p\n",
      "\n",
      "Working on 10_Getting_Started_With_Orange_10__Feature_Scoring_and_Ranking .....\n",
      "\n",
      "<<10_Getting_Started_With_Orange_10__Feature_Scoring_and_Ranking.mp4>> was downloaded successfully to Orange \n",
      "\n",
      "================================================\n",
      "\n"
     ]
    },
    {
     "name": "stderr",
     "output_type": "stream",
     "text": [
      "\r",
      " 53%|█████▎    | 10/19 [02:51<02:34, 17.16s/it]"
     ]
    },
    {
     "name": "stdout",
     "output_type": "stream",
     "text": [
      "Format mp4/720p\n",
      "\n",
      "Working on 11_Getting_Started_with_Orange_11__k-Means .....\n",
      "\n",
      "<<11_Getting_Started_with_Orange_11__k-Means.mp4>> was downloaded successfully to Orange \n",
      "\n",
      "================================================\n",
      "\n"
     ]
    },
    {
     "name": "stderr",
     "output_type": "stream",
     "text": [
      "\r",
      " 58%|█████▊    | 11/19 [03:22<02:27, 18.44s/it]"
     ]
    },
    {
     "name": "stdout",
     "output_type": "stream",
     "text": [
      "Format mp4/720p\n",
      "\n",
      "Working on 12_Getting_Started_with_Orange_12__k-Means_Explained .....\n",
      "\n",
      "<<12_Getting_Started_with_Orange_12__k-Means_Explained.mp4>> was downloaded successfully to Orange \n",
      "\n",
      "================================================\n",
      "\n"
     ]
    },
    {
     "name": "stderr",
     "output_type": "stream",
     "text": [
      "\r",
      " 63%|██████▎   | 12/19 [04:02<02:21, 20.17s/it]"
     ]
    },
    {
     "name": "stdout",
     "output_type": "stream",
     "text": [
      "Format mp4/720p\n",
      "\n",
      "Working on 13_Getting_Started_with_Orange_13__Silhouette .....\n",
      "\n",
      "<<13_Getting_Started_with_Orange_13__Silhouette.mp4>> was downloaded successfully to Orange \n",
      "\n",
      "================================================\n",
      "\n"
     ]
    },
    {
     "name": "stderr",
     "output_type": "stream",
     "text": [
      "\r",
      " 68%|██████▊   | 13/19 [04:31<02:05, 20.91s/it]"
     ]
    },
    {
     "name": "stdout",
     "output_type": "stream",
     "text": [
      "Format mp4/720p\n",
      "\n",
      "Working on 14_Getting_Started_with_Orange_14__Image_Analytics_-_Clustering .....\n",
      "\n",
      "<<14_Getting_Started_with_Orange_14__Image_Analytics_-_Clustering.mp4>> was downloaded successfully to Orange \n",
      "\n",
      "================================================\n",
      "\n"
     ]
    },
    {
     "name": "stderr",
     "output_type": "stream",
     "text": [
      "\r",
      " 74%|███████▎  | 14/19 [04:48<01:43, 20.63s/it]"
     ]
    },
    {
     "name": "stdout",
     "output_type": "stream",
     "text": [
      "Format mp4/720p\n",
      "\n",
      "Working on 15_Getting_Started_with_Orange_15__Image_Analytics_-_Classification .....\n",
      "\n",
      "<<15_Getting_Started_with_Orange_15__Image_Analytics_-_Classification.mp4>> was downloaded successfully to Orange \n",
      "\n",
      "================================================\n",
      "\n"
     ]
    },
    {
     "name": "stderr",
     "output_type": "stream",
     "text": [
      "\r",
      " 79%|███████▉  | 15/19 [04:58<01:19, 19.92s/it]"
     ]
    },
    {
     "name": "stdout",
     "output_type": "stream",
     "text": [
      "Format mp4/720p\n",
      "\n",
      "Working on 16_Getting_Started_with_Orange_16__Text_Preprocessing .....\n",
      "\n",
      "<<16_Getting_Started_with_Orange_16__Text_Preprocessing.mp4>> was downloaded successfully to Orange \n",
      "\n",
      "================================================\n",
      "\n"
     ]
    },
    {
     "name": "stderr",
     "output_type": "stream",
     "text": [
      "\r",
      " 84%|████████▍ | 16/19 [05:08<00:57, 19.30s/it]"
     ]
    },
    {
     "name": "stdout",
     "output_type": "stream",
     "text": [
      "Format mp4/720p\n",
      "\n",
      "Working on 17_Getting_Started_with_Orange_17__Text_Clustering .....\n",
      "\n",
      "<<17_Getting_Started_with_Orange_17__Text_Clustering.mp4>> was downloaded successfully to Orange \n",
      "\n",
      "================================================\n",
      "\n"
     ]
    },
    {
     "name": "stderr",
     "output_type": "stream",
     "text": [
      "\r",
      " 89%|████████▉ | 17/19 [05:47<00:40, 20.42s/it]"
     ]
    },
    {
     "name": "stdout",
     "output_type": "stream",
     "text": [
      "Format mp4/720p\n",
      "\n",
      "Working on 18_Getting_Started_with_Orange_18__Text_Classification .....\n",
      "\n",
      "<<18_Getting_Started_with_Orange_18__Text_Classification.mp4>> was downloaded successfully to Orange \n",
      "\n",
      "================================================\n",
      "\n"
     ]
    },
    {
     "name": "stderr",
     "output_type": "stream",
     "text": [
      "\r",
      " 95%|█████████▍| 18/19 [05:54<00:19, 19.71s/it]"
     ]
    },
    {
     "name": "stdout",
     "output_type": "stream",
     "text": [
      "Format mp4/720p\n",
      "\n",
      "Working on 19_Getting_Started_with_Orange_19__How_to_Import_Text_Documents .....\n",
      "\n",
      "<<19_Getting_Started_with_Orange_19__How_to_Import_Text_Documents.mp4>> was downloaded successfully to Orange \n",
      "\n",
      "================================================\n",
      "\n"
     ]
    },
    {
     "name": "stderr",
     "output_type": "stream",
     "text": [
      "100%|██████████| 19/19 [06:14<00:00, 19.70s/it]\n"
     ]
    },
    {
     "name": "stdout",
     "output_type": "stream",
     "text": [
      "=====================End Downloading in 6 ===========================\n",
      "\n"
     ]
    }
   ],
   "source": [
    "\n",
    "from pytube import YouTube\n",
    "\n",
    "def DownloadLink(yt,name,fold,audio): \n",
    "    comm='http://www.youtube.com/watch?v='\n",
    "    yt = YouTube(comm+yt)\n",
    "    yt.set_filename(name)\n",
    "    os.chdir(fold) #changing the drectory \n",
    "\n",
    "    try: \n",
    "        video = yt.get('mp4')\n",
    "        print ('Format is mp4')\n",
    "    except:\n",
    "        try:\n",
    "            video = yt.get('mp4','720p')\n",
    "            print ('Format mp4/720p')\n",
    "        except:\n",
    "            try:\n",
    "                video = yt.get('mp4','360p')\n",
    "                print ('Format mp4/360p')\n",
    "            except:\n",
    "                print (\"No mp4 720 or 360 Available\")\n",
    "    try:\n",
    "        video.download('.',on_progress=Working(name))\n",
    "        if audio==1:\n",
    "            subprocess.call(['ffmpeg','-i',name+'.mp4',name+'.mp3','-n'])  \n",
    "            print ('\\n<<{0}.mp3>> was downloaded successfully to {1} \\n'.format(name,fold))\n",
    "        print ('\\n<<{0}.mp4>> was downloaded successfully to {1} \\n'.format(name,fold))\n",
    "        print('================================================\\n')\n",
    "        \n",
    "    except:\n",
    "        \n",
    "        if audio==1:\n",
    "            FF=subprocess.call(['ffmpeg','-i',name+'.mp4',name+'.mp3','-n']) \n",
    "            if FF!=0:\n",
    "                print ('\\n<<{0}.mp3>> Already downloaded to {1} \\n'.format(name,fold))\n",
    "            else:\n",
    "                print ('\\n<<{0}.mp3>> was downloaded successfully to {1} \\n'.format(name,fold))\n",
    "        \n",
    "        print ('\\n<<{0}.mp4>> Already downloaded to {1} \\n'.format(name,fold))\n",
    "        \n",
    "    \n",
    "        print('================================================\\n')\n",
    "\n",
    "    os.chdir('../') #changing the drectory \n",
    "\n",
    "\n",
    "def DownloadAll(DF):\n",
    "    for i in range(len(DF)):\n",
    "        Name=DF.Name[i]\n",
    "        ID=DF.ID[i]\n",
    "        Fold=DF.Fold[i]\n",
    "        DownloadLink(ID,Name,Fold)\n",
    "        \n",
    "\n",
    "def Working(x):\n",
    "    print('\\nWorking on {} .....'.format(x))\n",
    "\n",
    "\n",
    "\n",
    "def DownloadAll(DF):\n",
    "    for i in tqdm(range(len(DF))):\n",
    "        Name=DF.Name[i]\n",
    "        ID=DF.ID[i]\n",
    "        Fold=DF.Fold[i]\n",
    "        Audio=DF.Audio[i]\n",
    "        DownloadLink(ID,Name,Fold,Audio)\n",
    "                   \n",
    "\n",
    "\n",
    "# In[21]:\n",
    "\n",
    "\n",
    "# Import the list \n",
    "#All_Vid=pd.read_csv(Default_List)\n",
    "All_Vid=DF\n",
    "def CleanName(x):\n",
    "    x=x.replace(' ','_').replace(':','_').replace('|','_').replace('?','')\n",
    "    return x\n",
    "All_Vid.Name=All_Vid.Name.apply(CleanName)\n",
    "\n",
    "# Create Folders \n",
    "for foldName in All_Vid.Fold.tolist():\n",
    "    if not os.path.exists(foldName):\n",
    "        os.makedirs(foldName)\n",
    "\n",
    "# Download all videos in the list \n",
    "Start_time=time.time()\n",
    "print('=====================Start Downloading ===========================\\n')\n",
    "DownloadAll(All_Vid)\n",
    "\n",
    "Req_time=round ((time.time()-Start_time)/60)\n",
    "print('=====================End Downloading in {} minutes===========================\\n'.format(Req_time))\n"
   ]
  },
  {
   "cell_type": "code",
   "execution_count": 6,
   "metadata": {},
   "outputs": [],
   "source": [
    "#!jupyter nbconvert --to script pydownplaylist.ipynb"
   ]
  },
  {
   "cell_type": "code",
   "execution_count": null,
   "metadata": {
    "collapsed": true
   },
   "outputs": [],
   "source": []
  }
 ],
 "metadata": {
  "kernelspec": {
   "display_name": "Python 3",
   "language": "python",
   "name": "python3"
  },
  "language_info": {
   "codemirror_mode": {
    "name": "ipython",
    "version": 3
   },
   "file_extension": ".py",
   "mimetype": "text/x-python",
   "name": "python",
   "nbconvert_exporter": "python",
   "pygments_lexer": "ipython3",
   "version": "3.6.2"
  }
 },
 "nbformat": 4,
 "nbformat_minor": 2
}
