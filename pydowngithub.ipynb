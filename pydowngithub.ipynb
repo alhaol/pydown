{
 "cells": [
  {
   "cell_type": "code",
   "execution_count": 1,
   "metadata": {
    "collapsed": true
   },
   "outputs": [],
   "source": [
    "from pytube import YouTube\n",
    "import os \n",
    "import pandas as pd\n",
    "from tqdm import tqdm\n",
    "import time \n",
    "import subprocess\n",
    "Default_List='List2.csv'\n",
    "\n",
    "'''\n",
    "\n",
    "import optparse\n",
    "\n",
    "desc=\"\"\"\n",
    "This tool download mp4 youtube videos to a spcific folder with a specific name given in List.csv\n",
    "Name,ID,Folder:  Name is the file name, ID is the youtube unique ID adn Folder is the folder to save that video\n",
    "\"\"\"\n",
    "parser = optparse.OptionParser(description=desc)\n",
    "parser.add_option('--list', '-l',help='File that have the list of files in the git hub repe', dest='List', default=\"List.csv\", action='store')\n",
    "\n",
    "(opts, args) = parser.parse_args()\n",
    "\n",
    "Default_List=opts.List\n",
    "\n",
    "\n",
    "'''\n",
    "\n",
    "\n",
    "\n",
    "def DownloadLink(yt,name,fold,audio): \n",
    "    comm='http://www.youtube.com/watch?v='\n",
    "    yt = YouTube(comm+yt)\n",
    "    yt.set_filename(name)\n",
    "    os.chdir(fold) #changing the drectory \n",
    "\n",
    "    try: \n",
    "        video = yt.get('mp4')\n",
    "        print ('Format is mp4')\n",
    "    except:\n",
    "        try:\n",
    "            video = yt.get('mp4','720p')\n",
    "            print ('Format mp4/720p')\n",
    "        except:\n",
    "            try:\n",
    "                video = yt.get('mp4','360p')\n",
    "                print ('Format mp4/360p')\n",
    "            except:\n",
    "                print (\"No mp4 720 or 360 Available\")\n",
    "    try:\n",
    "        video.download('.',on_progress=Working(name))\n",
    "        if audio==1:\n",
    "            subprocess.call(['ffmpeg','-i',name+'.mp4',name+'.mp3','-n'])  \n",
    "            print ('\\n<<{0}.mp3>> was downloaded successfully to {1} \\n'.format(name,fold))\n",
    "        print ('\\n<<{0}.mp4>> was downloaded successfully to {1} \\n'.format(name,fold))\n",
    "        print('================================================\\n')\n",
    "        \n",
    "    except:\n",
    "        \n",
    "        if audio==1:\n",
    "            FF=subprocess.call(['ffmpeg','-i',name+'.mp4',name+'.mp3','-n']) \n",
    "            if FF!=0:\n",
    "                print ('\\n<<{0}.mp3>> Already downloaded to {1} \\n'.format(name,fold))\n",
    "            else:\n",
    "                print ('\\n<<{0}.mp3>> was downloaded successfully to {1} \\n'.format(name,fold))\n",
    "        \n",
    "        print ('\\n<<{0}.mp4>> Already downloaded to {1} \\n'.format(name,fold))\n",
    "        \n",
    "    \n",
    "        print('================================================\\n')\n",
    "\n",
    "    os.chdir('../') #changing the drectory \n",
    "\n",
    "\n",
    "def DownloadAll(DF):\n",
    "    for i in range(len(DF)):\n",
    "        Name=DF.Name[i]\n",
    "        ID=DF.ID[i]\n",
    "        Fold=DF.Fold[i]\n",
    "        DownloadLink(ID,Name,Fold)\n",
    "        \n",
    "\n",
    "def Working(x):\n",
    "    print('\\nWorking on {} .....'.format(x))\n",
    "\n",
    "\n",
    "\n",
    "def DownloadAll(DF):\n",
    "    for i in tqdm(range(len(DF))):\n",
    "        Name=DF.Name[i]\n",
    "        ID=DF.ID[i]\n",
    "        Fold=DF.Fold[i]\n",
    "        Audio=DF.Audio[i]\n",
    "        DownloadLink(ID,Name,Fold,Audio)\n",
    "                   "
   ]
  },
  {
   "cell_type": "code",
   "execution_count": 3,
   "metadata": {},
   "outputs": [
    {
     "name": "stdout",
     "output_type": "stream",
     "text": [
      "=====================Start Downloading ===========================\n",
      "\n"
     ]
    },
    {
     "name": "stderr",
     "output_type": "stream",
     "text": [
      "\r",
      "  0%|          | 0/2 [00:00<?, ?it/s]"
     ]
    },
    {
     "name": "stdout",
     "output_type": "stream",
     "text": [
      "Format mp4/720p\n",
      "\n",
      "Working on 10_Arithmetic__Multiplication_Symbols .....\n",
      "\n",
      "<<10_Arithmetic__Multiplication_Symbols.mp3>> was downloaded successfully to Basics \n",
      "\n",
      "\n",
      "<<10_Arithmetic__Multiplication_Symbols.mp4>> was downloaded successfully to Basics \n",
      "\n",
      "================================================\n",
      "\n"
     ]
    },
    {
     "name": "stderr",
     "output_type": "stream",
     "text": [
      "\r",
      " 50%|█████     | 1/2 [00:02<00:02,  2.22s/it]"
     ]
    },
    {
     "name": "stdout",
     "output_type": "stream",
     "text": [
      "Format mp4/720p\n",
      "\n",
      "Working on 11_Arithmetic__Multiplication_Symbols .....\n",
      "\n",
      "<<11_Arithmetic__Multiplication_Symbols.mp3>> was downloaded successfully to Basics \n",
      "\n",
      "\n",
      "<<11_Arithmetic__Multiplication_Symbols.mp4>> was downloaded successfully to Basics \n",
      "\n",
      "================================================\n",
      "\n"
     ]
    },
    {
     "name": "stderr",
     "output_type": "stream",
     "text": [
      "100%|██████████| 2/2 [00:04<00:00,  2.16s/it]\n"
     ]
    },
    {
     "name": "stdout",
     "output_type": "stream",
     "text": [
      "=====================End Downloading in 0 ===========================\n",
      "\n"
     ]
    }
   ],
   "source": [
    "# Import the list \n",
    "url='https://raw.githubusercontent.com/alhaol/csv/master/'+Default_List\n",
    "All_Vid=pd.read_csv(url)\n",
    "\n",
    "#Save the list locally\n",
    "if not os.path.exists('csv'):\n",
    "        os.makedirs('csv')\n",
    "All_Vid.to_csv('csv/'+Default_List,index=False)\n",
    "        \n",
    "def CleanName(x):\n",
    "    x=x.replace(' ','_').replace(':','_').replace('|','_').replace('?','')\n",
    "    return x\n",
    "All_Vid.Name=All_Vid.Name.apply(CleanName)\n",
    "\n",
    "# Create Folders \n",
    "for foldName in All_Vid.Fold.tolist():\n",
    "    if not os.path.exists(foldName):\n",
    "        os.makedirs(foldName)\n",
    "\n",
    "# Download all videos in the list \n",
    "Start_time=time.time()\n",
    "print('=====================Start Downloading ===========================\\n')\n",
    "DownloadAll(All_Vid)\n",
    "\n",
    "Req_time=round ((time.time()-Start_time)/60)\n",
    "print('=====================End Downloading in {} ===========================\\n'.format(Req_time))\n"
   ]
  },
  {
   "cell_type": "code",
   "execution_count": 5,
   "metadata": {},
   "outputs": [],
   "source": [
    "#!jupyter nbconvert --to script pydowngithub.ipynb\n",
    "#!jupyter nbconvert --to HTML pydowngithub.ipynb"
   ]
  },
  {
   "cell_type": "code",
   "execution_count": null,
   "metadata": {
    "collapsed": true
   },
   "outputs": [],
   "source": []
  }
 ],
 "metadata": {
  "anaconda-cloud": {},
  "kernelspec": {
   "display_name": "Python 3",
   "language": "python",
   "name": "python3"
  },
  "language_info": {
   "codemirror_mode": {
    "name": "ipython",
    "version": 3
   },
   "file_extension": ".py",
   "mimetype": "text/x-python",
   "name": "python",
   "nbconvert_exporter": "python",
   "pygments_lexer": "ipython3",
   "version": "3.6.2"
  }
 },
 "nbformat": 4,
 "nbformat_minor": 1
}
