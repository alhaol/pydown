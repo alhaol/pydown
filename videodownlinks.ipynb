{
 "cells": [
  {
   "cell_type": "markdown",
   "metadata": {},
   "source": [
    "# This code download Youtube as mp4"
   ]
  },
  {
   "cell_type": "code",
   "execution_count": 18,
   "metadata": {},
   "outputs": [
    {
     "ename": "NameError",
     "evalue": "name 'optparse' is not defined",
     "output_type": "error",
     "traceback": [
      "\u001b[1;31m---------------------------------------------------------------------------\u001b[0m",
      "\u001b[1;31mNameError\u001b[0m                                 Traceback (most recent call last)",
      "\u001b[1;32m<ipython-input-18-f0642c37eae7>\u001b[0m in \u001b[0;36m<module>\u001b[1;34m()\u001b[0m\n\u001b[0;32m     10\u001b[0m \u001b[0mThis\u001b[0m \u001b[0mtool\u001b[0m \u001b[0mdownload\u001b[0m \u001b[0mvideo\u001b[0m \u001b[1;32mfor\u001b[0m \u001b[0ma\u001b[0m \u001b[0mprovided\u001b[0m \u001b[0mlist\u001b[0m \u001b[0mof\u001b[0m \u001b[0mlinks\u001b[0m \u001b[1;32min\u001b[0m \u001b[0ma\u001b[0m \u001b[0mcsv\u001b[0m \u001b[0mfile\u001b[0m\u001b[1;33m\u001b[0m\u001b[0m\n\u001b[0;32m     11\u001b[0m \"\"\"\n\u001b[1;32m---> 12\u001b[1;33m \u001b[0mparser\u001b[0m \u001b[1;33m=\u001b[0m \u001b[0moptparse\u001b[0m\u001b[1;33m.\u001b[0m\u001b[0mOptionParser\u001b[0m\u001b[1;33m(\u001b[0m\u001b[0mdescription\u001b[0m\u001b[1;33m=\u001b[0m\u001b[0mdesc\u001b[0m\u001b[1;33m)\u001b[0m\u001b[1;33m\u001b[0m\u001b[0m\n\u001b[0m\u001b[0;32m     13\u001b[0m \u001b[0mparser\u001b[0m\u001b[1;33m.\u001b[0m\u001b[0madd_option\u001b[0m\u001b[1;33m(\u001b[0m\u001b[1;34m'--list'\u001b[0m\u001b[1;33m,\u001b[0m \u001b[1;34m'-l'\u001b[0m\u001b[1;33m,\u001b[0m\u001b[0mhelp\u001b[0m\u001b[1;33m=\u001b[0m\u001b[1;34m'Enter csv file that has link of csv'\u001b[0m\u001b[1;33m,\u001b[0m \u001b[0mdest\u001b[0m\u001b[1;33m=\u001b[0m\u001b[1;34m'playlist'\u001b[0m\u001b[1;33m,\u001b[0m \u001b[0mdefault\u001b[0m\u001b[1;33m=\u001b[0m\u001b[1;34m\"List.csv\"\u001b[0m\u001b[1;33m,\u001b[0m \u001b[0maction\u001b[0m\u001b[1;33m=\u001b[0m\u001b[1;34m'store'\u001b[0m\u001b[1;33m)\u001b[0m\u001b[1;33m\u001b[0m\u001b[0m\n\u001b[0;32m     14\u001b[0m \u001b[0mparser\u001b[0m\u001b[1;33m.\u001b[0m\u001b[0madd_option\u001b[0m\u001b[1;33m(\u001b[0m\u001b[1;34m'--folder'\u001b[0m\u001b[1;33m,\u001b[0m \u001b[1;34m'-f'\u001b[0m\u001b[1;33m,\u001b[0m\u001b[0mhelp\u001b[0m\u001b[1;33m=\u001b[0m\u001b[1;34m'Name of the folder'\u001b[0m\u001b[1;33m,\u001b[0m \u001b[0mdest\u001b[0m\u001b[1;33m=\u001b[0m\u001b[1;34m'FoldName'\u001b[0m\u001b[1;33m,\u001b[0m \u001b[0mdefault\u001b[0m\u001b[1;33m=\u001b[0m\u001b[1;34m\"Videos\"\u001b[0m\u001b[1;33m,\u001b[0m \u001b[0maction\u001b[0m\u001b[1;33m=\u001b[0m\u001b[1;34m'store'\u001b[0m\u001b[1;33m)\u001b[0m\u001b[1;33m\u001b[0m\u001b[0m\n",
      "\u001b[1;31mNameError\u001b[0m: name 'optparse' is not defined"
     ]
    }
   ],
   "source": [
    "\n",
    "\n",
    "\n",
    "import youtube_dl\n",
    "from tqdm import tqdm\n",
    "import pandas as pd\n",
    "import optparse\n",
    "import os\n",
    "\n",
    "#URLs=['https://www.safaribooksonline.com/library/view/getting-started-with/9781788625531/video3_3.html']\n",
    "#Fold='Videos'\n",
    "\n",
    "\n",
    "desc=\"\"\"\n",
    "This tool download video for a provided list of links in a csv file \n",
    "\"\"\"\n",
    "parser = optparse.OptionParser(description=desc)\n",
    "parser.add_option('--list', '-l',help='Enter csv file that has link of csv', dest='playlist', default=\"List.csv\", action='store')\n",
    "parser.add_option('--folder', '-f',help='Name of the folder', dest='FoldName', default=\"Videos\", action='store')\n",
    "\n",
    "(opts, args) = parser.parse_args()\n",
    "\n",
    "List_path=opts.playlist\n",
    "Fold=opts.FoldName\n",
    "\n",
    "#Save the list locally\n",
    "if not os.path.exists(Fold):\n",
    "        os.makedirs(Fold)\n",
    "\n",
    "URLs=pd.read_csv(List_path, header=None)[0].tolist()\n"
   ]
  },
  {
   "cell_type": "markdown",
   "metadata": {},
   "source": [
    "# This code download Video List by providing link from any video source "
   ]
  },
  {
   "cell_type": "code",
   "execution_count": 43,
   "metadata": {},
   "outputs": [
    {
     "name": "stderr",
     "output_type": "stream",
     "text": [
      "\r",
      "  0%|          | 0/1 [00:00<?, ?it/s]"
     ]
    },
    {
     "name": "stdout",
     "output_type": "stream",
     "text": [
      "[pluralsight] 80d0eca3-47cd-4461-a875-7b1c078659dd-0: Downloading course JSON\n",
      "[pluralsight] 80d0eca3-47cd-4461-a875-7b1c078659dd-0: Downloading mp4-high-widescreen viewclip JSON\n",
      "[pluralsight] 80d0eca3-47cd-4461-a875-7b1c078659dd-0: Waiting for 5 seconds to avoid throttling\n",
      "[download] Course Overview.mp4 has already been downloaded\n",
      "[download] 100% of 4.20MiB\n"
     ]
    },
    {
     "name": "stderr",
     "output_type": "stream",
     "text": [
      "100%|██████████| 1/1 [00:07<00:00,  7.04s/it]\n"
     ]
    }
   ],
   "source": [
    "\n",
    "os.chdir(Fold) #changing the drectory \n",
    "\n",
    "def VideoDownload(URLs):\n",
    "    for i in tqdm(range(len(URLs))):\n",
    "        ydl = youtube_dl.YoutubeDL({'outtmpl': '%(title)s.%(ext)s'})\n",
    "        with ydl:\n",
    "            result = ydl.extract_info(URLs[i],download=True)\n",
    "\n",
    "VideoDownload(URLs)\n",
    "\n",
    "os.chdir('../') #changing the drectory \n"
   ]
  },
  {
   "cell_type": "code",
   "execution_count": 23,
   "metadata": {},
   "outputs": [
    {
     "name": "stderr",
     "output_type": "stream",
     "text": [
      "[NbConvertApp] Converting notebook videodownlinks.ipynb to script\n",
      "[NbConvertApp] Writing 1317 bytes to videodownlinks.py\n"
     ]
    }
   ],
   "source": [
    "#!jupyter nbconvert --to script videodownlinks.ipynb"
   ]
  },
  {
   "cell_type": "code",
   "execution_count": null,
   "metadata": {
    "collapsed": true
   },
   "outputs": [],
   "source": []
  }
 ],
 "metadata": {
  "kernelspec": {
   "display_name": "Python 3",
   "language": "python",
   "name": "python3"
  },
  "language_info": {
   "codemirror_mode": {
    "name": "ipython",
    "version": 3
   },
   "file_extension": ".py",
   "mimetype": "text/x-python",
   "name": "python",
   "nbconvert_exporter": "python",
   "pygments_lexer": "ipython3",
   "version": "3.6.2"
  }
 },
 "nbformat": 4,
 "nbformat_minor": 2
}
